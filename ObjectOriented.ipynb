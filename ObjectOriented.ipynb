{
 "cells": [
  {
   "cell_type": "markdown",
   "metadata": {},
   "source": [
    "# Review of Object Oriented Concepts\n",
    "* Prepared by Jithin\n",
    "* Date : 27-03-2019"
   ]
  },
  {
   "cell_type": "markdown",
   "metadata": {},
   "source": [
    "## Class"
   ]
  },
  {
   "cell_type": "code",
   "execution_count": 4,
   "metadata": {},
   "outputs": [
    {
     "name": "stdout",
     "output_type": "stream",
     "text": [
      "<__main__.Employee object at 0x7fd5c13c3710>\n",
      "<__main__.Employee object at 0x7fd5c139fbe0>\n"
     ]
    }
   ],
   "source": [
    "class Employee:\n",
    "    pass\n",
    "\n",
    "emp_1 = Employee()\n",
    "emp_2 = Employee()\n",
    "\n",
    "print(emp_1)\n",
    "print(emp_2)"
   ]
  },
  {
   "cell_type": "code",
   "execution_count": 6,
   "metadata": {},
   "outputs": [],
   "source": [
    "emp_1.first='Jithin'\n",
    "emp_1.last='Kumar'\n",
    "emp_1.email='jithin.kumar@company.com'\n",
    "emp_1.pay=2000"
   ]
  },
  {
   "cell_type": "code",
   "execution_count": 7,
   "metadata": {},
   "outputs": [],
   "source": [
    "emp_2.first='akash'\n",
    "emp_2.last='shetty'\n",
    "emp_2.email='akash.shetty@company.com'\n",
    "emp_2.pay=4000"
   ]
  },
  {
   "cell_type": "code",
   "execution_count": 8,
   "metadata": {},
   "outputs": [
    {
     "name": "stdout",
     "output_type": "stream",
     "text": [
      "jithin.kumar@company.com\n",
      "akash.shetty@company.com\n"
     ]
    }
   ],
   "source": [
    "print(emp_1.email)\n",
    "print(emp_2.email)"
   ]
  },
  {
   "cell_type": "code",
   "execution_count": 13,
   "metadata": {},
   "outputs": [
    {
     "name": "stdout",
     "output_type": "stream",
     "text": [
      "jithin kumar\n",
      "akash shetty\n"
     ]
    }
   ],
   "source": [
    "print(f'{emp_1.first} {emp_1.last}')\n",
    "print(f'{emp_2.first} {emp_2.last}')"
   ]
  },
  {
   "cell_type": "code",
   "execution_count": 9,
   "metadata": {},
   "outputs": [],
   "source": [
    "class Employee:\n",
    "    def __init__(self, first, last, pay):\n",
    "        self.first = first\n",
    "        self.last = last\n",
    "        self.email = first + '.' + last + '@email.com'\n",
    "        self.pay = pay\n",
    "\n",
    "    def fullname(self):\n",
    "        return '{} {}'.format(self.first, self.last)\n",
    "\n",
    "emp_1 = Employee('jithin', 'kumar', 5000)\n",
    "emp_2 = Employee('akash', 'shetty', 6000)"
   ]
  },
  {
   "cell_type": "code",
   "execution_count": 11,
   "metadata": {},
   "outputs": [
    {
     "name": "stdout",
     "output_type": "stream",
     "text": [
      "jithin kumar\n",
      "akash shetty\n"
     ]
    }
   ],
   "source": [
    "print(emp_1.fullname())\n",
    "print(emp_2.fullname())"
   ]
  },
  {
   "cell_type": "code",
   "execution_count": 15,
   "metadata": {},
   "outputs": [],
   "source": [
    "## if no self check the error you get"
   ]
  },
  {
   "cell_type": "code",
   "execution_count": 17,
   "metadata": {},
   "outputs": [
    {
     "data": {
      "text/plain": [
       "'akash shetty'"
      ]
     },
     "execution_count": 17,
     "metadata": {},
     "output_type": "execute_result"
    }
   ],
   "source": [
    "Employee.fullname(emp_1)\n",
    "Employee.fullname(emp_2)"
   ]
  },
  {
   "cell_type": "markdown",
   "metadata": {},
   "source": [
    "### Class Variables & Instance Variables"
   ]
  },
  {
   "cell_type": "markdown",
   "metadata": {},
   "source": [
    "Difference between instance variable and class variables"
   ]
  },
  {
   "cell_type": "code",
   "execution_count": 21,
   "metadata": {},
   "outputs": [
    {
     "name": "stdout",
     "output_type": "stream",
     "text": [
      "5200\n",
      "6000\n"
     ]
    }
   ],
   "source": [
    "class Employee:\n",
    "    def __init__(self, first, last, pay):\n",
    "        self.first = first\n",
    "        self.last = last\n",
    "        self.email = first + '.' + last + '@email.com'\n",
    "        self.pay = pay\n",
    "\n",
    "    def fullname(self):\n",
    "        return '{} {}'.format(self.first, self.last)\n",
    "    \n",
    "    def apply_raise(self):\n",
    "        self.pay = int(self.pay*1.04)\n",
    "\n",
    "emp_1 = Employee('jithin', 'kumar', 5000)\n",
    "emp_2 = Employee('akash', 'shetty', 6000)\n",
    "emp_1.apply_raise()\n",
    "\n",
    "print(emp_1.pay)\n",
    "print(emp_2.pay)"
   ]
  },
  {
   "cell_type": "code",
   "execution_count": 23,
   "metadata": {},
   "outputs": [
    {
     "name": "stdout",
     "output_type": "stream",
     "text": [
      "1.04\n",
      "1.04\n",
      "1.04\n"
     ]
    }
   ],
   "source": [
    "class Employee:\n",
    "    raise_amount = 1.04\n",
    "    def __init__(self, first, last, pay):\n",
    "        self.first = first\n",
    "        self.last = last\n",
    "        self.email = first + '.' + last + '@email.com'\n",
    "        self.pay = pay\n",
    "\n",
    "    def fullname(self):\n",
    "        return '{} {}'.format(self.first, self.last)\n",
    "    \n",
    "    def apply_raise(self):\n",
    "        self.pay = int(self.pay*self.raise_amount)\n",
    "\n",
    "emp_1 = Employee('jithin', 'kumar', 5000)\n",
    "emp_2 = Employee('akash', 'shetty', 6000)\n",
    "emp_1.apply_raise()\n",
    "\n",
    "print(emp_1.raise_amount)\n",
    "print(emp_2.raise_amount)\n",
    "print(Employee.raise_amount)"
   ]
  },
  {
   "cell_type": "code",
   "execution_count": 26,
   "metadata": {},
   "outputs": [
    {
     "name": "stdout",
     "output_type": "stream",
     "text": [
      "{'first': 'jithin', 'last': 'kumar', 'email': 'jithin.kumar@email.com', 'pay': 5200}\n",
      "\n",
      "{'__module__': '__main__', 'raise_amount': 1.04, '__init__': <function Employee.__init__ at 0x7fd5c08f1e18>, 'fullname': <function Employee.fullname at 0x7fd5c08f1f28>, 'apply_raise': <function Employee.apply_raise at 0x7fd5c08f1ea0>, '__dict__': <attribute '__dict__' of 'Employee' objects>, '__weakref__': <attribute '__weakref__' of 'Employee' objects>, '__doc__': None}\n"
     ]
    }
   ],
   "source": [
    "print(emp_1.__dict__)\n",
    "print()\n",
    "print(Employee.__dict__)"
   ]
  },
  {
   "cell_type": "code",
   "execution_count": 27,
   "metadata": {},
   "outputs": [
    {
     "name": "stdout",
     "output_type": "stream",
     "text": [
      "1.05\n",
      "1.05\n",
      "1.05\n"
     ]
    }
   ],
   "source": [
    "Employee.raise_amount=1.05\n",
    "print(emp_1.raise_amount)\n",
    "print(emp_2.raise_amount)\n",
    "print(Employee.raise_amount)\n"
   ]
  },
  {
   "cell_type": "code",
   "execution_count": 29,
   "metadata": {},
   "outputs": [
    {
     "name": "stdout",
     "output_type": "stream",
     "text": [
      "1.1\n",
      "1.05\n",
      "1.05\n"
     ]
    }
   ],
   "source": [
    "emp_1.raise_amount=1.10\n",
    "print(emp_1.raise_amount)\n",
    "print(emp_2.raise_amount)\n",
    "print(Employee.raise_amount)"
   ]
  },
  {
   "cell_type": "code",
   "execution_count": 33,
   "metadata": {},
   "outputs": [
    {
     "name": "stdout",
     "output_type": "stream",
     "text": [
      "0\n",
      "2\n"
     ]
    }
   ],
   "source": [
    "class Employee:\n",
    "    raise_amount = 1.04\n",
    "    num_of_emps = 0\n",
    "    def __init__(self, first, last, pay):\n",
    "        self.first = first\n",
    "        self.last = last\n",
    "        self.email = first + '.' + last + '@email.com'\n",
    "        self.pay = pay\n",
    "        \n",
    "        Employee.num_of_emps +=1\n",
    "\n",
    "    def fullname(self):\n",
    "        return '{} {}'.format(self.first, self.last)\n",
    "    \n",
    "    def apply_raise(self):\n",
    "        self.pay = int(self.pay*self.raise_amount)\n",
    "\n",
    "print(Employee.num_of_emps)\n",
    "emp_1 = Employee('jithin', 'kumar', 5000)\n",
    "emp_2 = Employee('akash', 'shetty', 6000)\n",
    "print(Employee.num_of_emps)\n"
   ]
  },
  {
   "cell_type": "markdown",
   "metadata": {},
   "source": [
    "## Class Methods & Static Methods"
   ]
  },
  {
   "cell_type": "code",
   "execution_count": 37,
   "metadata": {},
   "outputs": [
    {
     "name": "stdout",
     "output_type": "stream",
     "text": [
      "1.05\n",
      "1.05\n",
      "1.05\n"
     ]
    }
   ],
   "source": [
    "class Employee:\n",
    "    \n",
    "    raise_amount = 1.04\n",
    "    \n",
    "    def __init__(self, first, last, pay):\n",
    "        self.first = first\n",
    "        self.last = last\n",
    "        self.email = first + '.' + last + '@email.com'\n",
    "        self.pay = pay\n",
    "        \n",
    "        Employee.num_of_emps +=1\n",
    "\n",
    "    def fullname(self):\n",
    "        return '{} {}'.format(self.first, self.last)\n",
    "    \n",
    "    def apply_raise(self):\n",
    "        self.pay = int(self.pay*self.raise_amount)\n",
    "    \n",
    "    @classmethod\n",
    "    def set_raise_amount(cls, amount):\n",
    "        cls.raise_amount = amount\n",
    "    \n",
    "\n",
    "emp_1 = Employee('jithin', 'kumar', 5000)\n",
    "emp_2 = Employee('akash', 'shetty', 6000)\n",
    "\n",
    "Employee.set_raise_amount(1.05)\n",
    "\n",
    "print(emp_1.raise_amount)\n",
    "print(emp_2.raise_amount)\n",
    "print(Employee.raise_amount)"
   ]
  },
  {
   "cell_type": "code",
   "execution_count": 39,
   "metadata": {},
   "outputs": [
    {
     "data": {
      "text/plain": [
       "'John Doe'"
      ]
     },
     "execution_count": 39,
     "metadata": {},
     "output_type": "execute_result"
    }
   ],
   "source": [
    "emp_str_1 = 'John-Doe-70000'\n",
    "emp_str_2 = 'Steve-Smith-30000'\n",
    "emp_str_3 = 'Jane-Doe-90000'\n",
    "\n",
    "first, last, pay = emp_str_1.split('-')\n",
    "new_emp = Employee(first,last,pay)\n",
    "new_emp.fullname()"
   ]
  },
  {
   "cell_type": "code",
   "execution_count": 42,
   "metadata": {},
   "outputs": [
    {
     "data": {
      "text/plain": [
       "'Steve Smith'"
      ]
     },
     "execution_count": 42,
     "metadata": {},
     "output_type": "execute_result"
    }
   ],
   "source": [
    "class Employee:\n",
    "    \n",
    "    raise_amount = 1.04\n",
    "    \n",
    "    def __init__(self, first, last, pay):\n",
    "        self.first = first\n",
    "        self.last = last\n",
    "        self.email = first + '.' + last + '@email.com'\n",
    "        self.pay = pay\n",
    "\n",
    "    def fullname(self):\n",
    "        return '{} {}'.format(self.first, self.last)\n",
    "    \n",
    "    def apply_raise(self):\n",
    "        self.pay = int(self.pay*self.raise_amount)\n",
    "    \n",
    "    @classmethod\n",
    "    def set_raise_amount(cls, amount):\n",
    "        cls.raise_amount = amount\n",
    "    \n",
    "    @classmethod\n",
    "    def from_string(cls, emp_str):\n",
    "        first, last, pay = emp_str.split('-')\n",
    "        return cls(first, last, pay)\n",
    "      \n",
    "\n",
    "emp_1 = Employee('jithin', 'kumar', 5000)\n",
    "emp_2 = Employee('akash', 'shetty', 6000)\n",
    "\n",
    "emp_str_2 = 'Steve-Smith-30000'\n",
    "new_emp= Employee.from_string(emp_str_2)\n",
    "new_emp.fullname()"
   ]
  },
  {
   "cell_type": "code",
   "execution_count": 44,
   "metadata": {},
   "outputs": [
    {
     "name": "stdout",
     "output_type": "stream",
     "text": [
      "True\n"
     ]
    }
   ],
   "source": [
    "class Employee:\n",
    "    \n",
    "    raise_amount = 1.04\n",
    "    \n",
    "    def __init__(self, first, last, pay):\n",
    "        self.first = first\n",
    "        self.last = last\n",
    "        self.email = first + '.' + last + '@email.com'\n",
    "        self.pay = pay\n",
    "\n",
    "    def fullname(self):\n",
    "        return '{} {}'.format(self.first, self.last)\n",
    "    \n",
    "    def apply_raise(self):\n",
    "        self.pay = int(self.pay*self.raise_amount)\n",
    "    \n",
    "    @classmethod\n",
    "    def set_raise_amount(cls, amount):\n",
    "        cls.raise_amount = amount\n",
    "    \n",
    "    @classmethod\n",
    "    def from_string(cls, emp_str):\n",
    "        first, last, pay = emp_str.split('-')\n",
    "        return cls(first, last, pay)\n",
    "\n",
    "    @staticmethod\n",
    "    def is_workday(day):\n",
    "        if day.weekday() == 5 or day.weekday() == 6:\n",
    "            return False\n",
    "        return True      \n",
    "\n",
    "emp_1 = Employee('jithin', 'kumar', 5000)\n",
    "emp_2 = Employee('akash', 'shetty', 6000)\n",
    "\n",
    "import datetime\n",
    "my_date = datetime.date(2019,8,12)\n",
    "\n",
    "print(Employee.is_workday(my_date))"
   ]
  },
  {
   "cell_type": "markdown",
   "metadata": {},
   "source": [
    "## Inheritance and Subclasses"
   ]
  },
  {
   "cell_type": "code",
   "execution_count": null,
   "metadata": {},
   "outputs": [],
   "source": [
    "class Employee:\n",
    "\n",
    "    raise_amt = 1.04\n",
    "\n",
    "    def __init__(self, first, last, pay):\n",
    "        self.first = first\n",
    "        self.last = last\n",
    "        self.email = first + '.' + last + '@email.com'\n",
    "        self.pay = pay\n",
    "\n",
    "    def fullname(self):\n",
    "        return '{} {}'.format(self.first, self.last)\n",
    "\n",
    "    def apply_raise(self):\n",
    "        self.pay = int(self.pay * self.raise_amt)\n",
    "\n",
    "\n",
    "dev_1 = Employee('Corey', 'Schafer', 50000)\n",
    "dev_2 = Employee('Test', 'Employee', 60000)\n",
    "\n",
    "print(dev_1.email)\n",
    "print(dev_2.email)"
   ]
  },
  {
   "cell_type": "code",
   "execution_count": 46,
   "metadata": {},
   "outputs": [
    {
     "name": "stdout",
     "output_type": "stream",
     "text": [
      "jithin.kumar@email.com\n",
      "akash.shetty@email.com\n"
     ]
    }
   ],
   "source": [
    "class Employee:\n",
    "\n",
    "    raise_amt = 1.04\n",
    "\n",
    "    def __init__(self, first, last, pay):\n",
    "        self.first = first\n",
    "        self.last = last\n",
    "        self.email = first + '.' + last + '@email.com'\n",
    "        self.pay = pay\n",
    "\n",
    "    def fullname(self):\n",
    "        return '{} {}'.format(self.first, self.last)\n",
    "\n",
    "    def apply_raise(self):\n",
    "        self.pay = int(self.pay * self.raise_amt)\n",
    "\n",
    "\n",
    "class Developer(Employee):\n",
    "    pass\n",
    "\n",
    "dev_1 = Developer('jithin', 'kumar', 50000)\n",
    "dev_2 = Developer('akash', 'shetty', 60000)\n",
    "\n",
    "print(dev_1.email)\n",
    "print(dev_2.email)"
   ]
  },
  {
   "cell_type": "code",
   "execution_count": 48,
   "metadata": {},
   "outputs": [
    {
     "name": "stdout",
     "output_type": "stream",
     "text": [
      "Help on class Developer in module __main__:\n",
      "\n",
      "class Developer(Employee)\n",
      " |  Developer(first, last, pay)\n",
      " |  \n",
      " |  Method resolution order:\n",
      " |      Developer\n",
      " |      Employee\n",
      " |      builtins.object\n",
      " |  \n",
      " |  Methods inherited from Employee:\n",
      " |  \n",
      " |  __init__(self, first, last, pay)\n",
      " |      Initialize self.  See help(type(self)) for accurate signature.\n",
      " |  \n",
      " |  apply_raise(self)\n",
      " |  \n",
      " |  fullname(self)\n",
      " |  \n",
      " |  ----------------------------------------------------------------------\n",
      " |  Data descriptors inherited from Employee:\n",
      " |  \n",
      " |  __dict__\n",
      " |      dictionary for instance variables (if defined)\n",
      " |  \n",
      " |  __weakref__\n",
      " |      list of weak references to the object (if defined)\n",
      " |  \n",
      " |  ----------------------------------------------------------------------\n",
      " |  Data and other attributes inherited from Employee:\n",
      " |  \n",
      " |  raise_amt = 1.04\n",
      "\n",
      "None\n"
     ]
    }
   ],
   "source": [
    "print(help(Developer))"
   ]
  },
  {
   "cell_type": "code",
   "execution_count": 50,
   "metadata": {},
   "outputs": [
    {
     "name": "stdout",
     "output_type": "stream",
     "text": [
      "54080\n",
      "60000\n"
     ]
    }
   ],
   "source": [
    "dev_1.apply_raise()\n",
    "print(dev_1.pay)\n",
    "print(dev_2.pay)"
   ]
  },
  {
   "cell_type": "code",
   "execution_count": 53,
   "metadata": {},
   "outputs": [
    {
     "name": "stdout",
     "output_type": "stream",
     "text": [
      "55000\n",
      "66000\n"
     ]
    }
   ],
   "source": [
    "class Employee:\n",
    "\n",
    "    raise_amt = 1.04\n",
    "\n",
    "    def __init__(self, first, last, pay):\n",
    "        self.first = first\n",
    "        self.last = last\n",
    "        self.email = first + '.' + last + '@email.com'\n",
    "        self.pay = pay\n",
    "\n",
    "    def fullname(self):\n",
    "        return '{} {}'.format(self.first, self.last)\n",
    "\n",
    "    def apply_raise(self):\n",
    "        self.pay = int(self.pay * self.raise_amt)\n",
    "\n",
    "\n",
    "class Developer(Employee):\n",
    "    raise_amt = 1.10\n",
    "\n",
    "dev_1 = Developer('jithin', 'kumar', 50000)\n",
    "dev_2 = Developer('akash', 'shetty', 60000)\n",
    "\n",
    "dev_1.apply_raise()\n",
    "dev_2.apply_raise()\n",
    "print(dev_1.pay)\n",
    "print(dev_2.pay)"
   ]
  },
  {
   "cell_type": "code",
   "execution_count": 57,
   "metadata": {},
   "outputs": [
    {
     "data": {
      "text/plain": [
       "'akash.shetty@email.com'"
      ]
     },
     "execution_count": 57,
     "metadata": {},
     "output_type": "execute_result"
    }
   ],
   "source": [
    "class Employee:\n",
    "\n",
    "    raise_amt = 1.04\n",
    "\n",
    "    def __init__(self, first, last, pay):\n",
    "        self.first = first\n",
    "        self.last = last\n",
    "        self.email = first + '.' + last + '@email.com'\n",
    "        self.pay = pay\n",
    "\n",
    "    def fullname(self):\n",
    "        return '{} {}'.format(self.first, self.last)\n",
    "\n",
    "    def apply_raise(self):\n",
    "        self.pay = int(self.pay * self.raise_amt)\n",
    "\n",
    "\n",
    "class Developer(Employee):\n",
    "    raise_amt = 1.10\n",
    "\n",
    "    def __init__(self, first, last, pay, prog_lang):\n",
    "        super().__init__(first, last, pay)\n",
    "        self.prog_lang = prog_lang\n",
    "\n",
    "dev_1 = Developer('jithin', 'kumar', 50000,'python')\n",
    "dev_2 = Developer('akash', 'shetty', 60000,'javascript')\n",
    "\n",
    "dev_1.fullname()\n",
    "dev_2.email\n",
    "        \n"
   ]
  },
  {
   "cell_type": "code",
   "execution_count": 65,
   "metadata": {},
   "outputs": [
    {
     "name": "stdout",
     "output_type": "stream",
     "text": [
      "Sue.Smith@email.com\n",
      "\n",
      "Sue Smith\n",
      "--> jithin kumar\n",
      "--> akash shetty\n",
      "\n",
      "Sue Smith\n",
      "--> jithin kumar\n"
     ]
    }
   ],
   "source": [
    "class Employee:\n",
    "\n",
    "    raise_amt = 1.04\n",
    "\n",
    "    def __init__(self, first, last, pay):\n",
    "        self.first = first\n",
    "        self.last = last\n",
    "        self.email = first + '.' + last + '@email.com'\n",
    "        self.pay = pay\n",
    "\n",
    "    def fullname(self):\n",
    "        return '{} {}'.format(self.first, self.last)\n",
    "\n",
    "    def apply_raise(self):\n",
    "        self.pay = int(self.pay * self.raise_amt)\n",
    "\n",
    "\n",
    "class Developer(Employee):\n",
    "    raise_amt = 1.10\n",
    "\n",
    "    def __init__(self, first, last, pay, prog_lang):\n",
    "        super().__init__(first, last, pay)\n",
    "        self.prog_lang = prog_lang\n",
    "\n",
    "\n",
    "class Manager(Employee):\n",
    "\n",
    "    def __init__(self, first, last, pay, employees=None):\n",
    "        super().__init__(first, last, pay)\n",
    "        if employees is None:\n",
    "            self.employees = []\n",
    "        else:\n",
    "            self.employees = employees\n",
    "\n",
    "    def add_emp(self, emp):\n",
    "        if emp not in self.employees:\n",
    "            self.employees.append(emp)\n",
    "\n",
    "    def remove_emp(self, emp):\n",
    "        if emp in self.employees:\n",
    "            self.employees.remove(emp)\n",
    "\n",
    "    def print_emps(self):\n",
    "        print(self.fullname())\n",
    "        for emp in self.employees:\n",
    "            print('-->', emp.fullname()) \n",
    "\n",
    "mgr_1 = Manager('Sue', 'Smith', 90000, [dev_1])\n",
    "\n",
    "print(mgr_1.email)\n",
    "print()\n",
    "\n",
    "mgr_1.add_emp(dev_2)\n",
    "mgr_1.print_emps()\n",
    "mgr_1.remove_emp(dev_2)\n",
    "print()\n",
    "mgr_1.print_emps()\n"
   ]
  },
  {
   "cell_type": "code",
   "execution_count": 67,
   "metadata": {},
   "outputs": [
    {
     "name": "stdout",
     "output_type": "stream",
     "text": [
      "False\n",
      "True\n"
     ]
    }
   ],
   "source": [
    "print(isinstance(mgr_1,Developer))\n",
    "print(isinstance(mgr_1,Employee))"
   ]
  },
  {
   "cell_type": "code",
   "execution_count": 70,
   "metadata": {},
   "outputs": [
    {
     "name": "stdout",
     "output_type": "stream",
     "text": [
      "True\n",
      "False\n"
     ]
    }
   ],
   "source": [
    "print(issubclass(Developer,Employee))\n",
    "print(issubclass(Manager,Developer))"
   ]
  },
  {
   "cell_type": "markdown",
   "metadata": {},
   "source": [
    "## Magic Methods or Dunder Methods"
   ]
  },
  {
   "cell_type": "code",
   "execution_count": 72,
   "metadata": {},
   "outputs": [],
   "source": [
    "#__init__\n",
    "#__repr__\n",
    "#__str__"
   ]
  },
  {
   "cell_type": "code",
   "execution_count": 90,
   "metadata": {},
   "outputs": [],
   "source": [
    "class Employee:\n",
    "\n",
    "    raise_amt = 1.04\n",
    "\n",
    "    def __init__(self, first, last, pay):\n",
    "        self.first = first\n",
    "        self.last = last\n",
    "        self.email = first + '.' + last + '@email.com'\n",
    "        self.pay = pay\n",
    "\n",
    "    def fullname(self):\n",
    "        return '{} {}'.format(self.first, self.last)\n",
    "\n",
    "    def apply_raise(self):\n",
    "        self.pay = int(self.pay * self.raise_amt)\n",
    "\n",
    "    def __repr__(self):\n",
    "        return \"Employee('{}', '{}', {})\".format(self.first, self.last, self.pay)\n",
    "\n",
    "    def __str__(self):\n",
    "        return '{} - {}'.format(self.fullname(), self.email)\n",
    "\n",
    "    def __add__(self, other):\n",
    "        return self.pay + other.pay\n",
    "\n",
    "    def __len__(self):\n",
    "        return len(self.fullname())\n",
    "\n",
    "\n",
    "emp_1 = Employee('Corey', 'Schafer', 50000)\n",
    "emp_2 = Employee('Test', 'Employee', 60000)\n"
   ]
  },
  {
   "cell_type": "code",
   "execution_count": 85,
   "metadata": {},
   "outputs": [
    {
     "name": "stdout",
     "output_type": "stream",
     "text": [
      "<__main__.Employee object at 0x7fd5c0772898>\n",
      "<__main__.Employee object at 0x7fd5c0772898>\n"
     ]
    },
    {
     "ename": "TypeError",
     "evalue": "object of type 'Employee' has no len()",
     "output_type": "error",
     "traceback": [
      "\u001b[0;31m---------------------------------------------------------------------------\u001b[0m",
      "\u001b[0;31mTypeError\u001b[0m                                 Traceback (most recent call last)",
      "\u001b[0;32m<ipython-input-85-a60e7732b28b>\u001b[0m in \u001b[0;36m<module>\u001b[0;34m\u001b[0m\n\u001b[1;32m      1\u001b[0m \u001b[0mprint\u001b[0m\u001b[0;34m(\u001b[0m\u001b[0memp_1\u001b[0m\u001b[0;34m)\u001b[0m\u001b[0;34m\u001b[0m\u001b[0;34m\u001b[0m\u001b[0m\n\u001b[1;32m      2\u001b[0m \u001b[0mprint\u001b[0m\u001b[0;34m(\u001b[0m\u001b[0mstr\u001b[0m\u001b[0;34m(\u001b[0m\u001b[0memp_1\u001b[0m\u001b[0;34m)\u001b[0m\u001b[0;34m)\u001b[0m\u001b[0;34m\u001b[0m\u001b[0;34m\u001b[0m\u001b[0m\n\u001b[0;32m----> 3\u001b[0;31m \u001b[0mprint\u001b[0m\u001b[0;34m(\u001b[0m\u001b[0mlen\u001b[0m\u001b[0;34m(\u001b[0m\u001b[0memp_1\u001b[0m\u001b[0;34m)\u001b[0m\u001b[0;34m)\u001b[0m\u001b[0;34m\u001b[0m\u001b[0;34m\u001b[0m\u001b[0m\n\u001b[0m",
      "\u001b[0;31mTypeError\u001b[0m: object of type 'Employee' has no len()"
     ]
    }
   ],
   "source": [
    "print(emp_1)\n",
    "print(str(emp_1))\n",
    "print(len(emp_1))"
   ]
  },
  {
   "cell_type": "code",
   "execution_count": 86,
   "metadata": {},
   "outputs": [
    {
     "ename": "NameError",
     "evalue": "name 'add' is not defined",
     "output_type": "error",
     "traceback": [
      "\u001b[0;31m---------------------------------------------------------------------------\u001b[0m",
      "\u001b[0;31mNameError\u001b[0m                                 Traceback (most recent call last)",
      "\u001b[0;32m<ipython-input-86-dd335f907f1f>\u001b[0m in \u001b[0;36m<module>\u001b[0;34m\u001b[0m\n\u001b[0;32m----> 1\u001b[0;31m \u001b[0mprint\u001b[0m\u001b[0;34m(\u001b[0m\u001b[0madd\u001b[0m\u001b[0;34m(\u001b[0m\u001b[0memp_1\u001b[0m\u001b[0;34m+\u001b[0m\u001b[0memp_2\u001b[0m\u001b[0;34m)\u001b[0m\u001b[0;34m)\u001b[0m\u001b[0;34m\u001b[0m\u001b[0;34m\u001b[0m\u001b[0m\n\u001b[0m",
      "\u001b[0;31mNameError\u001b[0m: name 'add' is not defined"
     ]
    }
   ],
   "source": [
    "print(add(emp_1+emp_2))"
   ]
  },
  {
   "cell_type": "code",
   "execution_count": 82,
   "metadata": {},
   "outputs": [
    {
     "name": "stdout",
     "output_type": "stream",
     "text": [
      "3\n",
      "ab\n"
     ]
    }
   ],
   "source": [
    "print(int.__add__(1,2))\n",
    "print(str.__add__('a','b'))"
   ]
  },
  {
   "cell_type": "code",
   "execution_count": 92,
   "metadata": {},
   "outputs": [
    {
     "name": "stdout",
     "output_type": "stream",
     "text": [
      "Corey Schafer - Corey.Schafer@email.com\n",
      "Corey Schafer - Corey.Schafer@email.com\n",
      "13\n",
      "110000\n"
     ]
    }
   ],
   "source": [
    "print(emp_1)\n",
    "print(str(emp_1))\n",
    "print(len(emp_1))\n",
    "print(emp_1+emp_2)"
   ]
  },
  {
   "cell_type": "markdown",
   "metadata": {},
   "source": [
    "## Property Decorators - Getters and Setters"
   ]
  },
  {
   "cell_type": "code",
   "execution_count": 96,
   "metadata": {},
   "outputs": [
    {
     "name": "stdout",
     "output_type": "stream",
     "text": [
      "John\n",
      "John.Smith@email.com\n",
      "John Smith\n"
     ]
    },
    {
     "ename": "AttributeError",
     "evalue": "can't set attribute",
     "output_type": "error",
     "traceback": [
      "\u001b[0;31m---------------------------------------------------------------------------\u001b[0m",
      "\u001b[0;31mAttributeError\u001b[0m                            Traceback (most recent call last)",
      "\u001b[0;32m<ipython-input-96-42c808f2c3b9>\u001b[0m in \u001b[0;36m<module>\u001b[0;34m\u001b[0m\n\u001b[1;32m     21\u001b[0m \u001b[0mprint\u001b[0m\u001b[0;34m(\u001b[0m\u001b[0memp_1\u001b[0m\u001b[0;34m.\u001b[0m\u001b[0mfullname\u001b[0m\u001b[0;34m)\u001b[0m\u001b[0;34m\u001b[0m\u001b[0;34m\u001b[0m\u001b[0m\n\u001b[1;32m     22\u001b[0m \u001b[0;34m\u001b[0m\u001b[0m\n\u001b[0;32m---> 23\u001b[0;31m \u001b[0memp_1\u001b[0m\u001b[0;34m.\u001b[0m\u001b[0mfullname\u001b[0m \u001b[0;34m=\u001b[0m \u001b[0;34m\"Corey Schafer\"\u001b[0m\u001b[0;34m\u001b[0m\u001b[0;34m\u001b[0m\u001b[0m\n\u001b[0m",
      "\u001b[0;31mAttributeError\u001b[0m: can't set attribute"
     ]
    }
   ],
   "source": [
    "class Employee:\n",
    "\n",
    "    def __init__(self, first, last):\n",
    "        self.first = first\n",
    "        self.last = last\n",
    "\n",
    "    @property\n",
    "    def email(self):\n",
    "        return '{}.{}@email.com'.format(self.first, self.last)\n",
    "\n",
    "    @property\n",
    "    def fullname(self):\n",
    "        return '{} {}'.format(self.first, self.last)\n",
    "\n",
    "\n",
    "\n",
    "emp_1 = Employee('John', 'Smith')\n",
    "\n",
    "print(emp_1.first)\n",
    "print(emp_1.email)\n",
    "print(emp_1.fullname)\n",
    "\n",
    "emp_1.fullname = \"Corey Schafer\"\n"
   ]
  },
  {
   "cell_type": "code",
   "execution_count": 105,
   "metadata": {},
   "outputs": [
    {
     "name": "stdout",
     "output_type": "stream",
     "text": [
      "Deleted Jithin Kumar!\n"
     ]
    }
   ],
   "source": [
    "class Employee:\n",
    "\n",
    "    def __init__(self, first, last):\n",
    "        self.first = first\n",
    "        self.last = last\n",
    "\n",
    "    @property\n",
    "    def email(self):\n",
    "        return '{}.{}@email.com'.format(self.first, self.last)\n",
    "\n",
    "    @property\n",
    "    def fullname(self):\n",
    "        return '{} {}'.format(self.first, self.last)\n",
    "    \n",
    "    @fullname.setter\n",
    "    def fullname(self, name):\n",
    "        first, last = name.split(' ')\n",
    "        self.first = first\n",
    "        self.last = last\n",
    "    \n",
    "    @fullname.deleter\n",
    "    def fullname(self):\n",
    "        print(f'Deleted {self.first} {self.last}!')\n",
    "        self.first = None\n",
    "        self.last = None\n",
    "\n",
    "emp_1 = Employee('John', 'Smith')\n",
    "emp_1.fullname = \"Jithin Kumar\"\n",
    "emp_1.email\n",
    "del emp_1.fullname"
   ]
  },
  {
   "cell_type": "code",
   "execution_count": null,
   "metadata": {},
   "outputs": [],
   "source": []
  }
 ],
 "metadata": {
  "kernelspec": {
   "display_name": "Python 3",
   "language": "python",
   "name": "python3"
  },
  "language_info": {
   "codemirror_mode": {
    "name": "ipython",
    "version": 3
   },
   "file_extension": ".py",
   "mimetype": "text/x-python",
   "name": "python",
   "nbconvert_exporter": "python",
   "pygments_lexer": "ipython3",
   "version": "3.7.2"
  }
 },
 "nbformat": 4,
 "nbformat_minor": 2
}
